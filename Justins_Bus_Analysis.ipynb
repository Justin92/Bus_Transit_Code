{
 "cells": [
  {
   "cell_type": "code",
   "execution_count": 53,
   "metadata": {},
   "outputs": [],
   "source": [
    "#Read in the necessary packages\n",
    "import matplotlib.pyplot as plt\n",
    "import pandas as pd\n",
    "from datetime import datetime as dt\n",
    "import geopandas as gpd\n",
    "import shapely\n",
    "import numpy as np\n",
    "\n",
    "import arcgis\n",
    "import arcgis.geoanalytics\n",
    "from arcgis.gis import GIS\n",
    "\n",
    "from pathlib import Path\n",
    "from zipfile import ZipFile\n",
    "import os\n",
    "%matplotlib inline\n",
    "pd.options.display.max_columns = None\n",
    "#https://maps.cityofmadison.com/arcgis/rest/services/Public/OPEN_DATA_ENGR/MapServer/1"
   ]
  },
  {
   "cell_type": "code",
   "execution_count": 2,
   "metadata": {},
   "outputs": [],
   "source": [
    "#read in the bus stops and the streets\n",
    "busstops = gpd.read_file('https://opendata.arcgis.com/datasets/58d6ef381b594afbb06862dc51480aa1_3.geojson')\n",
    "streets = gpd.read_file('https://opendata.arcgis.com/datasets/55a0bff60c3b475893c6f483dd53cd40_1.geojson')"
   ]
  },
  {
   "cell_type": "code",
   "execution_count": 3,
   "metadata": {},
   "outputs": [
    {
     "data": {
      "text/plain": [
       "geopandas.geodataframe.GeoDataFrame"
      ]
     },
     "execution_count": 3,
     "metadata": {},
     "output_type": "execute_result"
    }
   ],
   "source": [
    "type(busstops)"
   ]
  },
  {
   "cell_type": "code",
   "execution_count": 4,
   "metadata": {},
   "outputs": [
    {
     "data": {
      "text/plain": [
       "geopandas.geodataframe.GeoDataFrame"
      ]
     },
     "execution_count": 4,
     "metadata": {},
     "output_type": "execute_result"
    }
   ],
   "source": [
    "type(streets)"
   ]
  },
  {
   "cell_type": "code",
   "execution_count": 5,
   "metadata": {},
   "outputs": [
    {
     "data": {
      "text/plain": [
       "(2156, 26)"
      ]
     },
     "execution_count": 5,
     "metadata": {},
     "output_type": "execute_result"
    }
   ],
   "source": [
    "busstops.shape"
   ]
  },
  {
   "cell_type": "code",
   "execution_count": 6,
   "metadata": {},
   "outputs": [
    {
     "data": {
      "text/plain": [
       "Index(['OBJECTID', 'stop_id', 'stop_code', 'stop_name', 'stop_desc',\n",
       "       'stop_lat', 'stop_lon', 'agency_id', 'location_type', 'parent_station',\n",
       "       'wheelchair_boarding', 'Route', 'Route_Dir', 'Shelter', 'Bench',\n",
       "       'Schedule', 'Light', 'Reaitime', 'PK_MD_WE', 'jurisdiction_id',\n",
       "       'relative_position', 'cardinal_direction', 'primary_street',\n",
       "       'address_range', 'cross_location', 'geometry'],\n",
       "      dtype='object')"
      ]
     },
     "execution_count": 6,
     "metadata": {},
     "output_type": "execute_result"
    }
   ],
   "source": [
    "busstops.columns"
   ]
  },
  {
   "cell_type": "code",
   "execution_count": 7,
   "metadata": {},
   "outputs": [
    {
     "data": {
      "text/plain": [
       "(10004, 61)"
      ]
     },
     "execution_count": 7,
     "metadata": {},
     "output_type": "execute_result"
    }
   ],
   "source": [
    "streets.shape"
   ]
  },
  {
   "cell_type": "code",
   "execution_count": 20,
   "metadata": {},
   "outputs": [
    {
     "name": "stdout",
     "output_type": "stream",
     "text": [
      "4, 47\n",
      "4, 47\n",
      "213    4, 47\n",
      "214    4, 47\n",
      "Name: Route, dtype: object\n"
     ]
    }
   ],
   "source": [
    "stop_1 = busstops.iloc[213, :]\n",
    "stop_2 = busstops.iloc[214, :]\n",
    "stops = busstops.iloc[213:215, :]\n",
    "print(stop_1['Route'])\n",
    "print(stop_2['Route'])\n",
    "print(stops['Route'])"
   ]
  },
  {
   "cell_type": "code",
   "execution_count": 26,
   "metadata": {},
   "outputs": [
    {
     "name": "stdout",
     "output_type": "stream",
     "text": [
      "843 845\n",
      "213    843\n",
      "214    845\n",
      "Name: stop_id, dtype: int64\n"
     ]
    }
   ],
   "source": [
    "print(stop_1['stop_id'], stop_2['stop_id'])\n",
    "print(stops['stop_id'])"
   ]
  },
  {
   "cell_type": "code",
   "execution_count": 12,
   "metadata": {},
   "outputs": [],
   "source": [
    "from bus import haversine_miles"
   ]
  },
  {
   "cell_type": "code",
   "execution_count": 14,
   "metadata": {},
   "outputs": [
    {
     "name": "stdout",
     "output_type": "stream",
     "text": [
      "0.18138390955552192  miles\n"
     ]
    }
   ],
   "source": [
    "crow_flies = haversine_miles(stop_1['stop_lat'], stop_1['stop_lon'], stop_2['stop_lat'], stop_2['stop_lon'])\n",
    "print(crow_flies, ' miles')"
   ]
  },
  {
   "cell_type": "code",
   "execution_count": 15,
   "metadata": {},
   "outputs": [
    {
     "data": {
      "text/plain": [
       "Index(['OBJECTID', 'segment_id', 'segment_name', 'from_segment', 'to_segment',\n",
       "       'pvmt_rating', 'curb_rating', 'init_const_yr', 'municipality',\n",
       "       'speed_limit', 'travel_time', 'emergency_spd1', 'funct_class',\n",
       "       'surface_type', 'surface_year', 'surface_width', 'project_no', 'lanes',\n",
       "       'curb_gutter', 'truck_route', 'median_width', 'oneway', 'rw_width',\n",
       "       'shoulder_right', 'shoulder_left', 'alternate_name', 'maintained_by',\n",
       "       'maint_factor', 'city_maintains', 'comments', 'r_lo_addr', 'r_hi_addr',\n",
       "       'l_lo_addr', 'l_hi_addr', 'ald_dist', 'sidewalk', 'resurface',\n",
       "       'next_maint_type', 'seal_coat', 'crack_seal', 'shoulder_type',\n",
       "       'curb_type', 'median_type', 'Owner', 'Asset_ID', 'Date_recorded',\n",
       "       'Date_modified', 'Modified_by', 'Recorded_by', 'Responsible_Agency',\n",
       "       'Status', 'Struc_code', 'pvmt_rate_txt', 'curb_rate_txt', 'cross_slope',\n",
       "       'terrace_erosion', 'Recon_year', 'rating_yr', 'rating_yr_txt',\n",
       "       'ShapeSTLength', 'geometry'],\n",
       "      dtype='object')"
      ]
     },
     "execution_count": 15,
     "metadata": {},
     "output_type": "execute_result"
    }
   ],
   "source": [
    "streets.columns"
   ]
  },
  {
   "cell_type": "code",
   "execution_count": 178,
   "metadata": {},
   "outputs": [
    {
     "data": {
      "text/plain": [
       "<matplotlib.axes._subplots.AxesSubplot at 0x7fd3033267d0>"
      ]
     },
     "execution_count": 178,
     "metadata": {},
     "output_type": "execute_result"
    },
    {
     "data": {
      "image/png": "[encoded data removed]",
      "text/plain": [
       "<Figure size 1008x864 with 1 Axes>"
      ]
     },
     "metadata": {
      "needs_background": "light"
     },
     "output_type": "display_data"
    }
   ],
   "source": [
    "fig, ax = plt.subplots(figsize=(14,12))\n",
    "markersize = 2\n",
    "streets.plot(ax=ax,color='grey',alpha=.5)\n",
    "stops.plot(ax=ax, markersize = 5*markersize, zorder=5)\n",
    "#stop_1.plot(ax=ax, markersize = 5*markersize, zorder=5)\n",
    "#stop_2.plot(ax=ax, markersize = markersize, color = 'red')"
   ]
  },
  {
   "cell_type": "markdown",
   "metadata": {},
   "source": [
    "### Finding the Connecting Streets"
   ]
  },
  {
   "cell_type": "code",
   "execution_count": 177,
   "metadata": {},
   "outputs": [
    {
     "data": {
      "text/plain": [
       "<matplotlib.axes._subplots.AxesSubplot at 0x7fd3030c47d0>"
      ]
     },
     "execution_count": 177,
     "metadata": {},
     "output_type": "execute_result"
    },
    {
     "data": {
      "image/png": "[encoded data removed]",
      "text/plain": [
       "<Figure size 1008x864 with 1 Axes>"
      ]
     },
     "metadata": {
      "needs_background": "light"
     },
     "output_type": "display_data"
    }
   ],
   "source": [
    "fig, ax = plt.subplots(figsize=(14,12))\n",
    "markersize = 2\n",
    "streets[streets['segment_name'].str.match('FISH HATCHERY')].plot(ax=ax,color='grey',alpha=.5)\n",
    "stops.plot(ax=ax, markersize = 5*markersize, zorder=5)\n",
    "#stop_1.plot(ax=ax, markersize = 5*markersize, zorder=5)\n",
    "#stop_2.plot(ax=ax, markersize = markersize, color = 'red')"
   ]
  },
  {
   "cell_type": "code",
   "execution_count": 163,
   "metadata": {},
   "outputs": [
    {
     "data": {
      "text/plain": [
       "<matplotlib.axes._subplots.AxesSubplot at 0x7fd30334f590>"
      ]
     },
     "execution_count": 163,
     "metadata": {},
     "output_type": "execute_result"
    },
    {
     "data": {
      "image/png": "[encoded data removed]",
      "text/plain": [
       "<Figure size 1008x864 with 1 Axes>"
      ]
     },
     "metadata": {
      "needs_background": "light"
     },
     "output_type": "display_data"
    }
   ],
   "source": [
    "fig, ax = plt.subplots(figsize=(14,12))\n",
    "markersize = 2\n",
    "streets[streets['segment_name'].str.match('FISH HATCHERY')].iloc[7:10, :].plot(ax=ax,color='grey',alpha=.5)\n",
    "stops.plot(ax=ax, markersize = 5*markersize, zorder=5)\n",
    "#stop_1.plot(ax=ax, markersize = 5*markersize, zorder=5)\n",
    "#stop_2.plot(ax=ax, markersize = markersize, color = 'red')"
   ]
  },
  {
   "cell_type": "markdown",
   "metadata": {},
   "source": [
    "So the way geopandas is it is just gonna automatically grab the geometry section"
   ]
  },
  {
   "cell_type": "code",
   "execution_count": 27,
   "metadata": {},
   "outputs": [
    {
     "data": {
      "text/plain": [
       "shapely.geometry.linestring.LineString"
      ]
     },
     "execution_count": 27,
     "metadata": {},
     "output_type": "execute_result"
    }
   ],
   "source": [
    "type(streets.loc[1, 'geometry'])"
   ]
  },
  {
   "cell_type": "code",
   "execution_count": 28,
   "metadata": {},
   "outputs": [
    {
     "data": {
      "image/svg+xml": [
       "<svg xmlns=\"http://www.w3.org/2000/svg\" xmlns:xlink=\"http://www.w3.org/1999/xlink\" width=\"100.0\" height=\"100.0\" viewBox=\"-89.29564681529364 43.13621729555829 0.0022991450810252445 0.0016070473227571824\" preserveAspectRatio=\"xMinYMin meet\"><g transform=\"matrix(1,0,0,-1,0,86.27404163843934)\"><polyline fill=\"none\" stroke=\"#66cc99\" stroke-width=\"4.598290162050489e-05\" points=\"-89.29556166177211,43.13743813233985 -89.2951764019182,43.13761970185675 -89.29506980364941,43.137648993235175 -89.29493696851468,43.13768759653242 -89.294758009214,43.13772280542427 -89.2945353102226,43.13773918935953 -89.29437119005532,43.13773206211384 -89.29419258039373,43.137713686182856 -89.29401472626446,43.1376707895877 -89.29384301791374,43.13759841165848 -89.2936865798481,43.1375008426004 -89.29349621740027,43.137281834275086 -89.29343282373414,43.13703176399765 -89.29345914488192,43.13687189745466 -89.29351822434852,43.13672184361699 -89.29362033175292,43.13660047361395 -89.29373713958687,43.136500210086616 -89.2938487521609,43.1364221441148 -89.2939919395609,43.13635843386015 -89.29417792849915,43.136317658839424 -89.29430041300525,43.13630244907981 -89.29444135630214,43.13630509512427 -89.29462089367675,43.13632578404953 -89.29474493777677,43.13634907073488 -89.29495037516618,43.13641368640056 -89.29512582179441,43.136489497091176 -89.29526325453841,43.13660675608263 -89.29536399557249,43.136691221697674\" opacity=\"0.8\" /></g></svg>"
      ],
      "text/plain": [
       "<shapely.geometry.linestring.LineString at 0x7fd30031cad0>"
      ]
     },
     "execution_count": 28,
     "metadata": {},
     "output_type": "execute_result"
    }
   ],
   "source": [
    "streets.loc[1, 'geometry']"
   ]
  },
  {
   "cell_type": "code",
   "execution_count": 29,
   "metadata": {},
   "outputs": [
    {
     "data": {
      "text/plain": [
       "'LINESTRING (-89.29556166177211 43.13743813233985, -89.2951764019182 43.13761970185675, -89.29506980364941 43.13764899323517, -89.29493696851468 43.13768759653242, -89.29475800921399 43.13772280542427, -89.2945353102226 43.13773918935953, -89.29437119005532 43.13773206211384, -89.29419258039373 43.13771368618286, -89.29401472626446 43.1376707895877, -89.29384301791374 43.13759841165848, -89.2936865798481 43.1375008426004, -89.29349621740027 43.13728183427509, -89.29343282373414 43.13703176399765, -89.29345914488192 43.13687189745466, -89.29351822434852 43.13672184361699, -89.29362033175292 43.13660047361395, -89.29373713958687 43.13650021008662, -89.2938487521609 43.1364221441148, -89.2939919395609 43.13635843386015, -89.29417792849915 43.13631765883942, -89.29430041300525 43.13630244907981, -89.29444135630214 43.13630509512427, -89.29462089367675 43.13632578404953, -89.29474493777677 43.13634907073488, -89.29495037516618 43.13641368640056, -89.29512582179441 43.13648949709118, -89.29526325453841 43.13660675608263, -89.29536399557249 43.13669122169767)'"
      ]
     },
     "execution_count": 29,
     "metadata": {},
     "output_type": "execute_result"
    }
   ],
   "source": [
    "str(streets.loc[1, 'geometry'])"
   ]
  },
  {
   "cell_type": "code",
   "execution_count": 30,
   "metadata": {},
   "outputs": [
    {
     "data": {
      "text/html": [
       "<div>\n",
       "<style scoped>\n",
       "    .dataframe tbody tr th:only-of-type {\n",
       "        vertical-align: middle;\n",
       "    }\n",
       "\n",
       "    .dataframe tbody tr th {\n",
       "        vertical-align: top;\n",
       "    }\n",
       "\n",
       "    .dataframe thead th {\n",
       "        text-align: right;\n",
       "    }\n",
       "</style>\n",
       "<table border=\"1\" class=\"dataframe\">\n",
       "  <thead>\n",
       "    <tr style=\"text-align: right;\">\n",
       "      <th></th>\n",
       "      <th>OBJECTID</th>\n",
       "      <th>stop_id</th>\n",
       "      <th>stop_code</th>\n",
       "      <th>stop_name</th>\n",
       "      <th>stop_desc</th>\n",
       "      <th>stop_lat</th>\n",
       "      <th>stop_lon</th>\n",
       "      <th>agency_id</th>\n",
       "      <th>location_type</th>\n",
       "      <th>parent_station</th>\n",
       "      <th>wheelchair_boarding</th>\n",
       "      <th>Route</th>\n",
       "      <th>Route_Dir</th>\n",
       "      <th>Shelter</th>\n",
       "      <th>Bench</th>\n",
       "      <th>Schedule</th>\n",
       "      <th>Light</th>\n",
       "      <th>Reaitime</th>\n",
       "      <th>PK_MD_WE</th>\n",
       "      <th>jurisdiction_id</th>\n",
       "      <th>relative_position</th>\n",
       "      <th>cardinal_direction</th>\n",
       "      <th>primary_street</th>\n",
       "      <th>address_range</th>\n",
       "      <th>cross_location</th>\n",
       "      <th>geometry</th>\n",
       "    </tr>\n",
       "  </thead>\n",
       "  <tbody>\n",
       "    <tr>\n",
       "      <th>213</th>\n",
       "      <td>10849</td>\n",
       "      <td>843</td>\n",
       "      <td>0843</td>\n",
       "      <td>Fish Hatchery &amp; Appleton (NB)</td>\n",
       "      <td>This stop (#0843) is northbound on the 1347 bl...</td>\n",
       "      <td>43.051698</td>\n",
       "      <td>-89.399002</td>\n",
       "      <td>MMT</td>\n",
       "      <td>0</td>\n",
       "      <td>NaN</td>\n",
       "      <td>1</td>\n",
       "      <td>4, 47</td>\n",
       "      <td>None</td>\n",
       "      <td>1</td>\n",
       "      <td>0</td>\n",
       "      <td>1</td>\n",
       "      <td>0</td>\n",
       "      <td>0</td>\n",
       "      <td>111</td>\n",
       "      <td>CMAD</td>\n",
       "      <td>3</td>\n",
       "      <td>0.0</td>\n",
       "      <td>Fish Hatchery</td>\n",
       "      <td>1347</td>\n",
       "      <td>Appleton</td>\n",
       "      <td>POINT (-89.39900 43.05170)</td>\n",
       "    </tr>\n",
       "    <tr>\n",
       "      <th>214</th>\n",
       "      <td>10850</td>\n",
       "      <td>845</td>\n",
       "      <td>0845</td>\n",
       "      <td>Fish Hatchery &amp; Plaenert (NB)</td>\n",
       "      <td>This stop (#0845) is northbound on the 1701 bl...</td>\n",
       "      <td>43.049317</td>\n",
       "      <td>-89.400521</td>\n",
       "      <td>MMT</td>\n",
       "      <td>0</td>\n",
       "      <td>NaN</td>\n",
       "      <td>1</td>\n",
       "      <td>4, 47</td>\n",
       "      <td>None</td>\n",
       "      <td>0</td>\n",
       "      <td>0</td>\n",
       "      <td>0</td>\n",
       "      <td>0</td>\n",
       "      <td>0</td>\n",
       "      <td>111</td>\n",
       "      <td>CMAD</td>\n",
       "      <td>3</td>\n",
       "      <td>0.0</td>\n",
       "      <td>Fish Hatchery</td>\n",
       "      <td>1701</td>\n",
       "      <td>Plaenert</td>\n",
       "      <td>POINT (-89.40052 43.04932)</td>\n",
       "    </tr>\n",
       "  </tbody>\n",
       "</table>\n",
       "</div>"
      ],
      "text/plain": [
       "     OBJECTID  stop_id stop_code                      stop_name  \\\n",
       "213     10849      843      0843  Fish Hatchery & Appleton (NB)   \n",
       "214     10850      845      0845  Fish Hatchery & Plaenert (NB)   \n",
       "\n",
       "                                             stop_desc   stop_lat   stop_lon  \\\n",
       "213  This stop (#0843) is northbound on the 1347 bl...  43.051698 -89.399002   \n",
       "214  This stop (#0845) is northbound on the 1701 bl...  43.049317 -89.400521   \n",
       "\n",
       "    agency_id  location_type  parent_station  wheelchair_boarding  Route  \\\n",
       "213       MMT              0             NaN                    1  4, 47   \n",
       "214       MMT              0             NaN                    1  4, 47   \n",
       "\n",
       "    Route_Dir  Shelter  Bench  Schedule  Light Reaitime PK_MD_WE  \\\n",
       "213      None        1      0         1      0        0      111   \n",
       "214      None        0      0         0      0        0      111   \n",
       "\n",
       "    jurisdiction_id  relative_position  cardinal_direction primary_street  \\\n",
       "213            CMAD                  3                 0.0  Fish Hatchery   \n",
       "214            CMAD                  3                 0.0  Fish Hatchery   \n",
       "\n",
       "     address_range cross_location                    geometry  \n",
       "213           1347       Appleton  POINT (-89.39900 43.05170)  \n",
       "214           1701       Plaenert  POINT (-89.40052 43.04932)  "
      ]
     },
     "execution_count": 30,
     "metadata": {},
     "output_type": "execute_result"
    }
   ],
   "source": [
    "stops"
   ]
  },
  {
   "cell_type": "code",
   "execution_count": 36,
   "metadata": {},
   "outputs": [
    {
     "data": {
      "text/plain": [
       "(23, 61)"
      ]
     },
     "execution_count": 36,
     "metadata": {},
     "output_type": "execute_result"
    }
   ],
   "source": [
    "streets[streets['segment_name'].str.match('FISH HATCHERY')].shape"
   ]
  },
  {
   "cell_type": "code",
   "execution_count": 61,
   "metadata": {},
   "outputs": [
    {
     "data": {
      "text/plain": [
       "0.005561901618039791"
      ]
     },
     "execution_count": 61,
     "metadata": {},
     "output_type": "execute_result"
    }
   ],
   "source": [
    "#So we can take the segments we are graphing up there and try to find their length\n",
    "np.sum(streets[streets['segment_name'].str.match('FISH HATCHERY')].iloc[6:10, :].length)"
   ]
  },
  {
   "cell_type": "code",
   "execution_count": 159,
   "metadata": {},
   "outputs": [],
   "source": [
    "#Now we know we need 6 to 10 to really connect the stops\n",
    "FS_segments = streets[streets['segment_name'].str.match('FISH HATCHERY')].iloc[6:10, :].reset_index()"
   ]
  },
  {
   "cell_type": "code",
   "execution_count": 145,
   "metadata": {},
   "outputs": [
    {
     "data": {
      "text/plain": [
       "<matplotlib.axes._subplots.AxesSubplot at 0x7fd2e35ed950>"
      ]
     },
     "execution_count": 145,
     "metadata": {},
     "output_type": "execute_result"
    },
    {
     "data": {
      "image/png": "[encoded data removed]",
      "text/plain": [
       "<Figure size 360x288 with 1 Axes>"
      ]
     },
     "metadata": {
      "needs_background": "light"
     },
     "output_type": "display_data"
    }
   ],
   "source": [
    "fig, ax = plt.subplots(figsize=(5,4))\n",
    "markersize = 2\n",
    "FS_segments.plot(ax=ax,color='grey',alpha=.5)\n",
    "stops.plot(ax=ax, markersize = 5*markersize, zorder=5)"
   ]
  },
  {
   "cell_type": "markdown",
   "metadata": {},
   "source": [
    "### Cutting the Street at Stop 1"
   ]
  },
  {
   "cell_type": "code",
   "execution_count": 143,
   "metadata": {},
   "outputs": [
    {
     "data": {
      "text/plain": [
       "0    0.000152\n",
       "1    0.000106\n",
       "2    0.001673\n",
       "3    0.002688\n",
       "dtype: float64"
      ]
     },
     "execution_count": 143,
     "metadata": {},
     "output_type": "execute_result"
    }
   ],
   "source": [
    "#Determine closest segment to stop 1\n",
    "FS_segments['geometry'].distance(stop_1['geometry'])"
   ]
  },
  {
   "cell_type": "code",
   "execution_count": 128,
   "metadata": {},
   "outputs": [
    {
     "name": "stdout",
     "output_type": "stream",
     "text": [
      "0.00010504271073492628\n"
     ]
    }
   ],
   "source": [
    "#Now know index 1 is closest to stop_1\n",
    "d = FS_segments.loc[1, 'geometry'].project(stop_1['geometry'])\n",
    "#Same thing as this because ls_point is nearest point on linestring\n",
    "#d = FS_segment_1.project(ls_point)\n",
    "print(d)"
   ]
  },
  {
   "cell_type": "code",
   "execution_count": 129,
   "metadata": {},
   "outputs": [],
   "source": [
    "ls_split1, ls_split2 = cut(FS_segments.loc[1, 'geometry'], d)"
   ]
  },
  {
   "cell_type": "code",
   "execution_count": 130,
   "metadata": {},
   "outputs": [
    {
     "data": {
      "image/svg+xml": [
       "<svg xmlns=\"http://www.w3.org/2000/svg\" xmlns:xlink=\"http://www.w3.org/1999/xlink\" width=\"100.0\" height=\"100.0\" viewBox=\"-89.3999822569409 43.0502483763644 0.0009348486578346638 0.0015355533789644937\" preserveAspectRatio=\"xMinYMin meet\"><g transform=\"matrix(1,0,0,-1,0,86.10203230610776)\"><polyline fill=\"none\" stroke=\"#66cc99\" stroke-width=\"3.071106757928987e-05\" points=\"-89.39910428063044,43.05172705739599 -89.39916073138157,43.051509433792745 -89.39929512213013,43.051179547611696 -89.39955061349268,43.05079597598084 -89.39992538459353,43.05030524871177\" opacity=\"0.8\" /></g></svg>"
      ],
      "text/plain": [
       "<shapely.geometry.linestring.LineString at 0x7fd2e34197d0>"
      ]
     },
     "execution_count": 130,
     "metadata": {},
     "output_type": "execute_result"
    }
   ],
   "source": [
    "#Just know from experience that split2 is what we want\n",
    "ls_split2"
   ]
  },
  {
   "cell_type": "markdown",
   "metadata": {},
   "source": [
    "##### Major Python Scope Question"
   ]
  },
  {
   "cell_type": "code",
   "execution_count": 160,
   "metadata": {},
   "outputs": [
    {
     "name": "stdout",
     "output_type": "stream",
     "text": [
      "LINESTRING (-89.39910428063044 43.05172705739599, -89.39916073138157 43.05150943379275, -89.39929512213013 43.0511795476117, -89.39955061349268 43.05079597598084, -89.39992538459353 43.05030524871177)\n"
     ]
    }
   ],
   "source": [
    "#modified_FS_segments = None\n",
    "#modified_FS_segments = FS_segments\n",
    "FS_segments.loc[1, 'geometry'] = ls_split2\n",
    "print(str(FS_segments.loc[1, 'geometry']))\n",
    "#print(str(modified_FS_segments.loc[1, 'geometry']))"
   ]
  },
  {
   "cell_type": "code",
   "execution_count": 164,
   "metadata": {},
   "outputs": [
    {
     "data": {
      "text/plain": [
       "<matplotlib.axes._subplots.AxesSubplot at 0x7fd303352210>"
      ]
     },
     "execution_count": 164,
     "metadata": {},
     "output_type": "execute_result"
    },
    {
     "data": {
      "image/png": "[encoded data removed]",
      "text/plain": [
       "<Figure size 360x288 with 1 Axes>"
      ]
     },
     "metadata": {
      "needs_background": "light"
     },
     "output_type": "display_data"
    }
   ],
   "source": [
    "#Plotting truncated line and want to get rid of segment 0\n",
    "fig, ax = plt.subplots(figsize=(5,4))\n",
    "markersize = 2\n",
    "FS_segments[1:].plot(ax=ax,color='grey',alpha=.5)\n",
    "stops.plot(ax=ax, markersize = 5*markersize, zorder=5)"
   ]
  },
  {
   "cell_type": "markdown",
   "metadata": {},
   "source": [
    "### Cutting the Street at Stop 2"
   ]
  },
  {
   "cell_type": "code",
   "execution_count": 165,
   "metadata": {},
   "outputs": [
    {
     "data": {
      "text/plain": [
       "0    0.002893\n",
       "1    0.001151\n",
       "2    0.000155\n",
       "3    0.000086\n",
       "dtype: float64"
      ]
     },
     "execution_count": 165,
     "metadata": {},
     "output_type": "execute_result"
    }
   ],
   "source": [
    "#Determine closest segment to stop 1\n",
    "FS_segments['geometry'].distance(stop_2['geometry'])"
   ]
  },
  {
   "cell_type": "code",
   "execution_count": 167,
   "metadata": {},
   "outputs": [
    {
     "name": "stdout",
     "output_type": "stream",
     "text": [
      "0.000129331733434878\n"
     ]
    }
   ],
   "source": [
    "#Now know index 3 is closest to stop_2\n",
    "d2 = FS_segments.loc[3, 'geometry'].project(stop_2['geometry'])\n",
    "print(d2)"
   ]
  },
  {
   "cell_type": "code",
   "execution_count": 168,
   "metadata": {},
   "outputs": [
    {
     "data": {
      "image/svg+xml": [
       "<svg xmlns=\"http://www.w3.org/2000/svg\" xmlns:xlink=\"http://www.w3.org/1999/xlink\" width=\"100.0\" height=\"100.0\" viewBox=\"-89.40149482564479 43.04822555352267 0.0010343333331661597 0.0012967629370805867\" preserveAspectRatio=\"xMinYMin meet\"><g transform=\"matrix(1,0,0,-1,0,86.09774786998241)\"><polyline fill=\"none\" stroke=\"#66cc99\" stroke-width=\"2.5935258741611732e-05\" points=\"-89.40050852056855,43.04947428820282 -89.40144679738786,43.0482735817796\" opacity=\"0.8\" /></g></svg>"
      ],
      "text/plain": [
       "<shapely.geometry.linestring.LineString at 0x7fd2e3b40a10>"
      ]
     },
     "execution_count": 168,
     "metadata": {},
     "output_type": "execute_result"
    }
   ],
   "source": [
    "FS_segments.loc[3, 'geometry']"
   ]
  },
  {
   "cell_type": "code",
   "execution_count": 169,
   "metadata": {},
   "outputs": [],
   "source": [
    "ls_split3, ls_split4 = cut(FS_segments.loc[3, 'geometry'], d2)"
   ]
  },
  {
   "cell_type": "code",
   "execution_count": 170,
   "metadata": {},
   "outputs": [
    {
     "data": {
      "image/svg+xml": [
       "<svg xmlns=\"http://www.w3.org/2000/svg\" xmlns:xlink=\"http://www.w3.org/1999/xlink\" width=\"100.0\" height=\"100.0\" viewBox=\"-89.40059223102561 43.04936830461485 8.778674890663751e-05 0.00011005987981604903\" preserveAspectRatio=\"xMinYMin meet\"><g transform=\"matrix(1,0,0,-1,0,86.09884666910952)\"><polyline fill=\"none\" stroke=\"#66cc99\" stroke-width=\"2.2011975963209805e-06\" points=\"-89.40050852056855,43.04947428820282 -89.40058815473377,43.049372380906696\" opacity=\"0.8\" /></g></svg>"
      ],
      "text/plain": [
       "<shapely.geometry.linestring.LineString at 0x7fd3033391d0>"
      ]
     },
     "execution_count": 170,
     "metadata": {},
     "output_type": "execute_result"
    }
   ],
   "source": [
    "ls_split3"
   ]
  },
  {
   "cell_type": "code",
   "execution_count": 171,
   "metadata": {},
   "outputs": [
    {
     "data": {
      "image/svg+xml": [
       "<svg xmlns=\"http://www.w3.org/2000/svg\" xmlns:xlink=\"http://www.w3.org/1999/xlink\" width=\"100.0\" height=\"100.0\" viewBox=\"-89.40149074935294 43.048229629814514 0.0009465465842595222 0.0011867030572645376\" preserveAspectRatio=\"xMinYMin meet\"><g transform=\"matrix(1,0,0,-1,0,86.0976459626863)\"><polyline fill=\"none\" stroke=\"#66cc99\" stroke-width=\"2.3734061145290752e-05\" points=\"-89.40058815473377,43.049372380906696 -89.40144679738786,43.0482735817796\" opacity=\"0.8\" /></g></svg>"
      ],
      "text/plain": [
       "<shapely.geometry.linestring.LineString at 0x7fd303367510>"
      ]
     },
     "execution_count": 171,
     "metadata": {},
     "output_type": "execute_result"
    }
   ],
   "source": [
    "ls_split4"
   ]
  },
  {
   "cell_type": "code",
   "execution_count": 172,
   "metadata": {},
   "outputs": [
    {
     "name": "stdout",
     "output_type": "stream",
     "text": [
      "LINESTRING (-89.40050852056855 43.04947428820282, -89.40144679738786 43.0482735817796)\n"
     ]
    }
   ],
   "source": [
    "print(str(FS_segments.loc[3, 'geometry']))"
   ]
  },
  {
   "cell_type": "code",
   "execution_count": 173,
   "metadata": {},
   "outputs": [
    {
     "name": "stdout",
     "output_type": "stream",
     "text": [
      "LINESTRING (-89.40050852056855 43.04947428820282, -89.40058815473377 43.0493723809067)\n"
     ]
    }
   ],
   "source": [
    "FS_segments.loc[3, 'geometry'] = ls_split3\n",
    "print(str(FS_segments.loc[3, 'geometry']))"
   ]
  },
  {
   "cell_type": "code",
   "execution_count": 174,
   "metadata": {},
   "outputs": [
    {
     "data": {
      "text/plain": [
       "'LINESTRING (-89.40050852056855 43.04947428820282, -89.40058815473377 43.0493723809067)'"
      ]
     },
     "execution_count": 174,
     "metadata": {},
     "output_type": "execute_result"
    }
   ],
   "source": [
    "str(ls_split3)"
   ]
  },
  {
   "cell_type": "code",
   "execution_count": 175,
   "metadata": {},
   "outputs": [
    {
     "data": {
      "text/plain": [
       "<matplotlib.axes._subplots.AxesSubplot at 0x7fd30331e4d0>"
      ]
     },
     "execution_count": 175,
     "metadata": {},
     "output_type": "execute_result"
    },
    {
     "data": {
      "image/png": "[encoded data removed]",
      "text/plain": [
       "<Figure size 360x288 with 1 Axes>"
      ]
     },
     "metadata": {
      "needs_background": "light"
     },
     "output_type": "display_data"
    }
   ],
   "source": [
    "#Plotting truncated line and want to get rid of segment 0\n",
    "fig, ax = plt.subplots(figsize=(5,4))\n",
    "markersize = 2\n",
    "FS_segments[1:].plot(ax=ax,color='grey',alpha=.5)\n",
    "stops.plot(ax=ax, markersize = 5*markersize, zorder=5)"
   ]
  },
  {
   "cell_type": "code",
   "execution_count": 176,
   "metadata": {},
   "outputs": [
    {
     "data": {
      "text/plain": [
       "0.00280386455204966"
      ]
     },
     "execution_count": 176,
     "metadata": {},
     "output_type": "execute_result"
    }
   ],
   "source": [
    "#Calculate the length of my new line segment previously 0.005561901618039791\n",
    "np.sum(FS_segments.loc[1: , 'geometry'].length)"
   ]
  },
  {
   "cell_type": "markdown",
   "metadata": {},
   "source": [
    "### Collective Fiddling to get the street distance between two stops"
   ]
  },
  {
   "cell_type": "code",
   "execution_count": 77,
   "metadata": {},
   "outputs": [],
   "source": [
    "from shapely.ops import nearest_points\n",
    "??nearest_points"
   ]
  },
  {
   "cell_type": "code",
   "execution_count": 79,
   "metadata": {},
   "outputs": [
    {
     "data": {
      "text/plain": [
       "'POINT (-89.39900126249367 43.05170033487548)'"
      ]
     },
     "execution_count": 79,
     "metadata": {},
     "output_type": "execute_result"
    }
   ],
   "source": [
    "str(stop_1['geometry'])"
   ]
  },
  {
   "cell_type": "code",
   "execution_count": 155,
   "metadata": {},
   "outputs": [
    {
     "data": {
      "text/plain": [
       "'LINESTRING (-89.39908177054843 43.05182957477325, -89.39909037064646 43.05178068185227, -89.39916073138157 43.05150943379275, -89.39929512213013 43.0511795476117, -89.39955061349268 43.05079597598084, -89.39992538459353 43.05030524871177)'"
      ]
     },
     "execution_count": 155,
     "metadata": {},
     "output_type": "execute_result"
    }
   ],
   "source": [
    "str(FS_segments.loc[1, 'geometry'])"
   ]
  },
  {
   "cell_type": "code",
   "execution_count": 85,
   "metadata": {},
   "outputs": [],
   "source": [
    "ls_point, stop_1_point = nearest_points(FS_segments.loc[1, 'geometry'], stop_1['geometry'])"
   ]
  },
  {
   "cell_type": "code",
   "execution_count": 86,
   "metadata": {},
   "outputs": [
    {
     "data": {
      "text/plain": [
       "'POINT (-89.39910428063044 43.05172705739599)'"
      ]
     },
     "execution_count": 86,
     "metadata": {},
     "output_type": "execute_result"
    }
   ],
   "source": [
    "str(ls_point)"
   ]
  },
  {
   "cell_type": "code",
   "execution_count": 87,
   "metadata": {},
   "outputs": [
    {
     "data": {
      "text/plain": [
       "'POINT (-89.39900126249367 43.05170033487548)'"
      ]
     },
     "execution_count": 87,
     "metadata": {},
     "output_type": "execute_result"
    }
   ],
   "source": [
    "str(stop_1_point)"
   ]
  },
  {
   "cell_type": "code",
   "execution_count": 88,
   "metadata": {},
   "outputs": [
    {
     "data": {
      "text/plain": [
       "shapely.geometry.linestring.LineString"
      ]
     },
     "execution_count": 88,
     "metadata": {},
     "output_type": "execute_result"
    }
   ],
   "source": [
    "FS_segment_1 = FS_segments.loc[1, 'geometry']\n",
    "type(FS_segment_1)"
   ]
  },
  {
   "cell_type": "code",
   "execution_count": 89,
   "metadata": {},
   "outputs": [],
   "source": [
    "from shapely.ops import split\n",
    "??split"
   ]
  },
  {
   "cell_type": "code",
   "execution_count": 110,
   "metadata": {},
   "outputs": [
    {
     "data": {
      "text/plain": [
       "True"
      ]
     },
     "execution_count": 110,
     "metadata": {},
     "output_type": "execute_result"
    }
   ],
   "source": [
    "FS_segment_1.distance(ls_point) < 1e-8"
   ]
  },
  {
   "cell_type": "code",
   "execution_count": 111,
   "metadata": {},
   "outputs": [
    {
     "ename": "ValueError",
     "evalue": "not enough values to unpack (expected 2, got 1)",
     "output_type": "error",
     "traceback": [
      "\u001b[0;31m---------------------------------------------------------------------------\u001b[0m",
      "\u001b[0;31mValueError\u001b[0m                                Traceback (most recent call last)",
      "\u001b[0;32m<ipython-input-111-52553e85903e>\u001b[0m in \u001b[0;36m<module>\u001b[0;34m\u001b[0m\n\u001b[0;32m----> 1\u001b[0;31m \u001b[0msplit_ls1\u001b[0m\u001b[0;34m,\u001b[0m \u001b[0msplit_ls2\u001b[0m \u001b[0;34m=\u001b[0m \u001b[0msplit\u001b[0m\u001b[0;34m(\u001b[0m\u001b[0mFS_segment_1\u001b[0m\u001b[0;34m,\u001b[0m \u001b[0mls_point\u001b[0m\u001b[0;34m)\u001b[0m\u001b[0;34m\u001b[0m\u001b[0;34m\u001b[0m\u001b[0m\n\u001b[0m",
      "\u001b[0;31mValueError\u001b[0m: not enough values to unpack (expected 2, got 1)"
     ]
    }
   ],
   "source": [
    "split(FS_segment_1, ls_point)\n"
   ]
  },
  {
   "cell_type": "code",
   "execution_count": 108,
   "metadata": {},
   "outputs": [
    {
     "data": {
      "text/plain": [
       "True"
      ]
     },
     "execution_count": 108,
     "metadata": {},
     "output_type": "execute_result"
    }
   ],
   "source": [
    "FS_segment_1 == split_ls[0]"
   ]
  },
  {
   "cell_type": "code",
   "execution_count": null,
   "metadata": {},
   "outputs": [],
   "source": []
  },
  {
   "cell_type": "code",
   "execution_count": 93,
   "metadata": {},
   "outputs": [
    {
     "data": {
      "text/plain": [
       "'LINESTRING (-89.39908177054843 43.05182957477325, -89.39909037064646 43.05178068185227, -89.39916073138157 43.05150943379275, -89.39929512213013 43.0511795476117, -89.39955061349268 43.05079597598084, -89.39992538459353 43.05030524871177)'"
      ]
     },
     "execution_count": 93,
     "metadata": {},
     "output_type": "execute_result"
    }
   ],
   "source": [
    "str(FS_segment_1)"
   ]
  },
  {
   "cell_type": "code",
   "execution_count": 91,
   "metadata": {},
   "outputs": [
    {
     "data": {
      "text/plain": [
       "'GEOMETRYCOLLECTION (LINESTRING (-89.39908177054843 43.05182957477325, -89.39909037064646 43.05178068185227, -89.39916073138157 43.05150943379275, -89.39929512213013 43.0511795476117, -89.39955061349268 43.05079597598084, -89.39992538459353 43.05030524871177))'"
      ]
     },
     "execution_count": 91,
     "metadata": {},
     "output_type": "execute_result"
    }
   ],
   "source": [
    "str(split_ls)"
   ]
  },
  {
   "cell_type": "code",
   "execution_count": 94,
   "metadata": {},
   "outputs": [
    {
     "data": {
      "text/plain": [
       "shapely.geometry.collection.GeometryCollection"
      ]
     },
     "execution_count": 94,
     "metadata": {},
     "output_type": "execute_result"
    }
   ],
   "source": [
    "type(split_ls)"
   ]
  },
  {
   "cell_type": "code",
   "execution_count": 95,
   "metadata": {},
   "outputs": [
    {
     "data": {
      "text/plain": [
       "1"
      ]
     },
     "execution_count": 95,
     "metadata": {},
     "output_type": "execute_result"
    }
   ],
   "source": [
    "len(split_ls)"
   ]
  },
  {
   "cell_type": "code",
   "execution_count": 96,
   "metadata": {},
   "outputs": [
    {
     "data": {
      "text/plain": [
       "'GEOMETRYCOLLECTION (LINESTRING (-89.39908177054843 43.05182957477325, -89.39909037064646 43.05178068185227, -89.39916073138157 43.05150943379275, -89.39929512213013 43.0511795476117, -89.39955061349268 43.05079597598084, -89.39992538459353 43.05030524871177))'"
      ]
     },
     "execution_count": 96,
     "metadata": {},
     "output_type": "execute_result"
    }
   ],
   "source": [
    "split_ls.wkt"
   ]
  },
  {
   "cell_type": "code",
   "execution_count": 106,
   "metadata": {},
   "outputs": [
    {
     "data": {
      "text/plain": [
       "False"
      ]
     },
     "execution_count": 106,
     "metadata": {},
     "output_type": "execute_result"
    }
   ],
   "source": [
    "FS_segment_1.distance(stop_1_point) < 1e-8"
   ]
  },
  {
   "cell_type": "code",
   "execution_count": 98,
   "metadata": {},
   "outputs": [
    {
     "data": {
      "text/plain": [
       "259"
      ]
     },
     "execution_count": 98,
     "metadata": {},
     "output_type": "execute_result"
    }
   ],
   "source": [
    "len(split_ls.wkt)"
   ]
  },
  {
   "cell_type": "code",
   "execution_count": 100,
   "metadata": {},
   "outputs": [
    {
     "data": {
      "text/plain": [
       "0.0017644189242836323"
      ]
     },
     "execution_count": 100,
     "metadata": {},
     "output_type": "execute_result"
    }
   ],
   "source": [
    "FS_segment_1.length"
   ]
  },
  {
   "cell_type": "code",
   "execution_count": 104,
   "metadata": {},
   "outputs": [
    {
     "data": {
      "text/plain": [
       "0.0017644189242836323"
      ]
     },
     "execution_count": 104,
     "metadata": {},
     "output_type": "execute_result"
    }
   ],
   "source": [
    "split_ls[0].length"
   ]
  },
  {
   "cell_type": "markdown",
   "metadata": {},
   "source": [
    "The problem we have here is that split only will apply at the vertex of a linestring. So we need to bring in this **cut** function (below)"
   ]
  },
  {
   "cell_type": "code",
   "execution_count": 116,
   "metadata": {},
   "outputs": [],
   "source": [
    "#Bring in function for cutting linestrings with points NOT at vertex\n",
    "from shapely.geometry import Point, LineString\n",
    "def cut(line, distance):\n",
    "    # Cuts a line in two at a distance from its starting point\n",
    "    if distance <= 0.0 or distance >= line.length:\n",
    "        return [LineString(line)]\n",
    "    coords = list(line.coords)\n",
    "    for i, p in enumerate(coords):\n",
    "        pd = line.project(Point(p))\n",
    "        if pd == distance:\n",
    "            return [\n",
    "                LineString(coords[:i+1]),\n",
    "                LineString(coords[i:])]\n",
    "        if pd > distance:\n",
    "            cp = line.interpolate(distance)\n",
    "            return [\n",
    "                LineString(coords[:i] + [(cp.x, cp.y)]),\n",
    "                LineString([(cp.x, cp.y)] + coords[i:])]"
   ]
  },
  {
   "cell_type": "code",
   "execution_count": 114,
   "metadata": {},
   "outputs": [
    {
     "name": "stdout",
     "output_type": "stream",
     "text": [
      "0.00010504271073070582\n"
     ]
    }
   ],
   "source": [
    "#Straight from shapely documentation\n",
    "#line.project Returns the distance along this geometric object to a point nearest the other object.\n",
    "d = FS_segment_1.project(stop_1_point)\n",
    "#Same thing as this because ls_point is nearest point on linestring\n",
    "#d = FS_segment_1.project(ls_point)\n",
    "#print(d)"
   ]
  },
  {
   "cell_type": "code",
   "execution_count": 118,
   "metadata": {},
   "outputs": [],
   "source": [
    "split_ls1, split_ls2 = cut(FS_segment_1, d)"
   ]
  },
  {
   "cell_type": "code",
   "execution_count": 119,
   "metadata": {},
   "outputs": [
    {
     "data": {
      "image/svg+xml": [
       "<svg xmlns=\"http://www.w3.org/2000/svg\" xmlns:xlink=\"http://www.w3.org/1999/xlink\" width=\"100.0\" height=\"100.0\" viewBox=\"-89.39910838132553 43.0517229567009 3.07114721920243e-05 0.00011071876744495057\" preserveAspectRatio=\"xMinYMin meet\"><g transform=\"matrix(1,0,0,-1,0,86.10355663216924)\"><polyline fill=\"none\" stroke=\"#66cc99\" stroke-width=\"2.2143753488990114e-06\" points=\"-89.39908177054843,43.05182957477325 -89.39909037064646,43.05178068185227 -89.39910428063044,43.05172705739599\" opacity=\"0.8\" /></g></svg>"
      ],
      "text/plain": [
       "<shapely.geometry.linestring.LineString at 0x7fd2e35f1510>"
      ]
     },
     "execution_count": 119,
     "metadata": {},
     "output_type": "execute_result"
    }
   ],
   "source": [
    "split_ls1"
   ]
  },
  {
   "cell_type": "code",
   "execution_count": 120,
   "metadata": {},
   "outputs": [
    {
     "data": {
      "image/svg+xml": [
       "<svg xmlns=\"http://www.w3.org/2000/svg\" xmlns:xlink=\"http://www.w3.org/1999/xlink\" width=\"100.0\" height=\"100.0\" viewBox=\"-89.3999822569409 43.0502483763644 0.0009348486578346638 0.0015355533789644937\" preserveAspectRatio=\"xMinYMin meet\"><g transform=\"matrix(1,0,0,-1,0,86.10203230610776)\"><polyline fill=\"none\" stroke=\"#66cc99\" stroke-width=\"3.071106757928987e-05\" points=\"-89.39910428063044,43.05172705739599 -89.39916073138157,43.051509433792745 -89.39929512213013,43.051179547611696 -89.39955061349268,43.05079597598084 -89.39992538459353,43.05030524871177\" opacity=\"0.8\" /></g></svg>"
      ],
      "text/plain": [
       "<shapely.geometry.linestring.LineString at 0x7fd2e35f1a10>"
      ]
     },
     "execution_count": 120,
     "metadata": {},
     "output_type": "execute_result"
    }
   ],
   "source": [
    "split_ls2"
   ]
  },
  {
   "cell_type": "code",
   "execution_count": 121,
   "metadata": {},
   "outputs": [
    {
     "data": {
      "text/plain": [
       "'LINESTRING (-89.39908177054843 43.05182957477325, -89.39909037064646 43.05178068185227, -89.39910428063044 43.05172705739599)'"
      ]
     },
     "execution_count": 121,
     "metadata": {},
     "output_type": "execute_result"
    }
   ],
   "source": [
    "str(split_ls1)"
   ]
  },
  {
   "cell_type": "code",
   "execution_count": 122,
   "metadata": {},
   "outputs": [
    {
     "data": {
      "text/plain": [
       "'LINESTRING (-89.39910428063044 43.05172705739599, -89.39916073138157 43.05150943379275, -89.39929512213013 43.0511795476117, -89.39955061349268 43.05079597598084, -89.39992538459353 43.05030524871177)'"
      ]
     },
     "execution_count": 122,
     "metadata": {},
     "output_type": "execute_result"
    }
   ],
   "source": [
    "str(split_ls2)"
   ]
  },
  {
   "cell_type": "code",
   "execution_count": 123,
   "metadata": {},
   "outputs": [
    {
     "name": "stdout",
     "output_type": "stream",
     "text": [
      "0.0017644189242836323\n",
      "0.0016593762135529264\n"
     ]
    }
   ],
   "source": [
    "print(FS_segment_1.length)\n",
    "print(split_ls2.length)"
   ]
  },
  {
   "cell_type": "code",
   "execution_count": 124,
   "metadata": {},
   "outputs": [
    {
     "data": {
      "text/plain": [
       "0.000106427579159963"
      ]
     },
     "execution_count": 124,
     "metadata": {},
     "output_type": "execute_result"
    }
   ],
   "source": [
    "split_ls1.distance(stop_1_point)"
   ]
  },
  {
   "cell_type": "code",
   "execution_count": 125,
   "metadata": {},
   "outputs": [
    {
     "data": {
      "text/plain": [
       "0.00010642757915996302"
      ]
     },
     "execution_count": 125,
     "metadata": {},
     "output_type": "execute_result"
    }
   ],
   "source": [
    "split_ls2.distance(stop_1_point)"
   ]
  },
  {
   "cell_type": "code",
   "execution_count": null,
   "metadata": {},
   "outputs": [],
   "source": []
  }
 ],
 "metadata": {
  "kernelspec": {
   "display_name": "Python 3",
   "language": "python",
   "name": "python3"
  },
  "language_info": {
   "codemirror_mode": {
    "name": "ipython",
    "version": 3
   },
   "file_extension": ".py",
   "mimetype": "text/x-python",
   "name": "python",
   "nbconvert_exporter": "python",
   "pygments_lexer": "ipython3",
   "version": "3.7.6"
  }
 },
 "nbformat": 4,
 "nbformat_minor": 4
}
